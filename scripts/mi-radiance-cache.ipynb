{
 "cells": [
  {
   "cell_type": "code",
   "execution_count": 1,
   "metadata": {},
   "outputs": [],
   "source": [
    "import sys\n",
    "sys.path.insert(0, '/home/jonathan/Documents/mi3-balance/build/python')\n",
    "\n",
    "import drjit as dr\n",
    "import mitsuba as mi\n",
    "from drjit.auto import Float, UInt, Bool\n",
    "\n",
    "mi.set_variant('cuda_ad_rgb')"
   ]
  },
  {
   "cell_type": "code",
   "execution_count": 2,
   "metadata": {},
   "outputs": [],
   "source": [
    "# !python3 /home/jonathan/Documents/mi3-balance/scripts/resources/cbox-tessellated/generate_cbox.py 5\n"
   ]
  },
  {
   "cell_type": "code",
   "execution_count": 3,
   "metadata": {},
   "outputs": [
    {
     "name": "stdout",
     "output_type": "stream",
     "text": [
      "Fitting spherical harmonics to scene...\n"
     ]
    },
    {
     "name": "stderr",
     "output_type": "stream",
     "text": [
      "100%|██████████| 8/8 [00:06<00:00,  1.17it/s]"
     ]
    },
    {
     "name": "stdout",
     "output_type": "stream",
     "text": [
      "Fitting complete.\n"
     ]
    },
    {
     "name": "stderr",
     "output_type": "stream",
     "text": [
      "\n"
     ]
    }
   ],
   "source": [
    "from radiosity_sh import RadianceCacheMiSH\n",
    "from radiosity_sh import compute_loss as compute_loss_sh\n",
    "\n",
    "scene = mi.load_file(\"/home/jonathan/Documents/mi3-balance/scripts/resources/cbox-tessellated/cbox.xml\")\n",
    "# scene = mi.load_file(\"/home/jonathan/Documents/mi3-balance/scripts/resources/cbox-tessellated/cbox-rgb.xml\")\n",
    "# scene = mi.load_file(\"/home/jonathan/Documents/mi3-balance/resources/data/scenes/matpreview/matpreview.xml\")\n",
    "\n",
    "sh_order = 0\n",
    "radiance_cache = RadianceCacheMiSH(scene, sh_order, fit_Nquad=128, fit_spp=64)"
   ]
  },
  {
   "cell_type": "code",
   "execution_count": 4,
   "metadata": {},
   "outputs": [],
   "source": [
    "from radiosity_sh import SceneSurfaceSampler\n",
    "\n",
    "scene_sampler = SceneSurfaceSampler(scene)"
   ]
  },
  {
   "cell_type": "code",
   "execution_count": 5,
   "metadata": {},
   "outputs": [],
   "source": [
    "from radiosity import RadianceCacheMITSUBA\n",
    "from radiosity import compute_loss as compute_loss_mi\n",
    "\n",
    "radiance_cache_exact = RadianceCacheMITSUBA(scene, 256, 128)"
   ]
  },
  {
   "cell_type": "code",
   "execution_count": 6,
   "metadata": {},
   "outputs": [],
   "source": [
    "colors = {\n",
    "    'white': [0.9, 0.7, 0.6],\n",
    "    'box': [0.5, 0.3, 0.9],\n",
    "    'red': [0.6, 0.1, 0.1],\n",
    "    'green': [0.1, 0.4, 0.1],\n",
    "    'light': [0.9, 0.7, 0.7]\n",
    "}\n",
    "\n",
    "mesh_materials = ['light', 'white', 'white', 'white', 'green', 'red', 'box', 'box']"
   ]
  },
  {
   "cell_type": "code",
   "execution_count": 7,
   "metadata": {},
   "outputs": [],
   "source": [
    "from principled_bsdf import Principled, Diffuse\n",
    "\n",
    "bsdf_train = Principled(specular=0.0)   # TODO: should `specular` also be a trainable parameter?\n",
    "\n",
    "for idx, mesh in enumerate(scene.shapes()):\n",
    "    if not(mesh.is_mesh()):\n",
    "        continue\n",
    "    bsdf_train.initialize_mesh_attributes(mesh, [0.5, 0.5, 0.5], 0.0, 0.0)\n",
    "\n",
    "\n",
    "# for idx, (mesh, material) in enumerate(zip(scene.shapes(), mesh_materials)):\n",
    "#     if not(mesh.is_mesh()):\n",
    "#         continue\n",
    "#     bsdf_train.initialize_mesh_attributes(mesh, colors[material], 0.0, 0.0)\n",
    "\n",
    "# TODO\n",
    "# bsdf_train = Diffuse()"
   ]
  },
  {
   "cell_type": "code",
   "execution_count": 8,
   "metadata": {},
   "outputs": [],
   "source": [
    "NUM_GEO_SAMPLES = 1 << 20 # 1 << 14\n",
    "NUM_WI_DIRECTIONS = 256"
   ]
  },
  {
   "cell_type": "code",
   "execution_count": 9,
   "metadata": {},
   "outputs": [
    {
     "data": {
      "text/plain": [
       "[0.463204]"
      ]
     },
     "execution_count": 9,
     "metadata": {},
     "output_type": "execute_result"
    }
   ],
   "source": [
    "# TODO: check equivalence between `Principled(alpha={0.0, 1.0}, metallic=False)` and `Diffuse()`\n",
    "\n",
    "# compute_loss_mi(scene_sampler, radiance_cache_exact, Principled(specular=0.0), NUM_GEO_SAMPLES, NUM_WI_DIRECTIONS, 0)\n",
    "# compute_loss_mi(scene_sampler, radiance_cache_exact, Diffuse(), NUM_GEO_SAMPLES, NUM_WI_DIRECTIONS, 0)\n",
    "compute_loss_sh(scene_sampler, radiance_cache, Principled(specular=0.0), NUM_GEO_SAMPLES, NUM_WI_DIRECTIONS, 0)\n",
    "# compute_loss_sh(scene_sampler, radiance_cache, Diffuse(), NUM_GEO_SAMPLES, NUM_WI_DIRECTIONS, 0)"
   ]
  },
  {
   "cell_type": "code",
   "execution_count": 10,
   "metadata": {},
   "outputs": [],
   "source": [
    "# from principled_bsdf import visualize_textures\n",
    "\n",
    "# visualize_textures(scene)"
   ]
  },
  {
   "cell_type": "code",
   "execution_count": 11,
   "metadata": {},
   "outputs": [
    {
     "name": "stdout",
     "output_type": "stream",
     "text": [
      "Iteration 001 [0.177615]: Loss = [0.463204]\n",
      "Iteration 002 [0.170008]: Loss = [0.38133]\n",
      "Iteration 003 [0.166554]: Loss = [0.298774]\n",
      "Iteration 004 [0.170609]: Loss = [0.240746]\n",
      "Iteration 005 [0.169394]: Loss = [0.184185]\n",
      "Iteration 006 [0.164029]: Loss = [0.133588]\n",
      "Iteration 007 [0.168646]: Loss = [0.101426]\n",
      "Iteration 008 [0.170203]: Loss = [0.0673598]\n",
      "Iteration 009 [0.169887]: Loss = [0.0513778]\n",
      "Iteration 010 [0.171684]: Loss = [0.0373592]\n",
      "Iteration 011 [0.171037]: Loss = [0.0245346]\n",
      "Iteration 012 [0.170657]: Loss = [0.0241658]\n",
      "Iteration 013 [0.170794]: Loss = [0.0257169]\n",
      "Iteration 014 [0.171279]: Loss = [0.023212]\n",
      "Iteration 015 [0.170539]: Loss = [0.0242587]\n",
      "Iteration 016 [0.168901]: Loss = [0.023962]\n",
      "Iteration 017 [0.169330]: Loss = [0.0218132]\n",
      "Iteration 018 [0.170348]: Loss = [0.0263787]\n",
      "Iteration 019 [0.171381]: Loss = [0.0235596]\n",
      "Iteration 020 [0.170098]: Loss = [0.0234798]\n",
      "Iteration 021 [0.169805]: Loss = [0.0251368]\n",
      "Iteration 022 [0.170386]: Loss = [0.0231402]\n",
      "Iteration 023 [0.171638]: Loss = [0.025392]\n",
      "Iteration 024 [0.170947]: Loss = [0.0251067]\n",
      "Iteration 025 [0.169417]: Loss = [0.0272814]\n",
      "Iteration 026 [0.170146]: Loss = [0.0249353]\n",
      "Iteration 027 [0.171177]: Loss = [0.0249321]\n",
      "Iteration 028 [0.170757]: Loss = [0.0256811]\n",
      "Iteration 029 [0.163366]: Loss = [0.0220185]\n",
      "Iteration 030 [0.167520]: Loss = [0.0236926]\n",
      "Iteration 031 [0.169430]: Loss = [0.0269671]\n",
      "Iteration 032 [0.168273]: Loss = [0.025231]\n",
      "Iteration 033 [0.167553]: Loss = [0.0251256]\n",
      "Iteration 034 [0.168304]: Loss = [0.0247091]\n",
      "Iteration 035 [0.170513]: Loss = [0.0238028]\n",
      "Iteration 036 [0.170844]: Loss = [0.0200025]\n",
      "Iteration 037 [0.170018]: Loss = [0.0229589]\n",
      "Iteration 038 [0.170183]: Loss = [0.0219499]\n",
      "Iteration 039 [0.170883]: Loss = [0.0257672]\n",
      "Iteration 040 [0.171767]: Loss = [0.0217767]\n",
      "Iteration 041 [0.163926]: Loss = [0.0213695]\n",
      "Iteration 042 [0.157158]: Loss = [0.0263507]\n",
      "Iteration 043 [0.157769]: Loss = [0.0249957]\n",
      "Iteration 044 [0.157825]: Loss = [0.0227634]\n",
      "Iteration 045 [0.156733]: Loss = [0.0239343]\n",
      "Iteration 046 [0.156910]: Loss = [0.0244528]\n",
      "Iteration 047 [0.156453]: Loss = [0.0267674]\n",
      "Iteration 048 [0.158052]: Loss = [0.0238611]\n",
      "Iteration 049 [0.158224]: Loss = [0.0249984]\n",
      "Iteration 050 [0.158817]: Loss = [0.0251104]\n",
      "Iteration 051 [0.156920]: Loss = [0.0245214]\n",
      "Iteration 052 [0.157347]: Loss = [0.0244982]\n",
      "Iteration 053 [0.157206]: Loss = [0.0246495]\n",
      "Iteration 054 [0.157219]: Loss = [0.0239605]\n",
      "Iteration 055 [0.156642]: Loss = [0.0221792]\n",
      "Iteration 056 [0.157505]: Loss = [0.0227013]\n",
      "Iteration 057 [0.156441]: Loss = [0.0240825]\n",
      "Iteration 058 [0.157325]: Loss = [0.0241529]\n",
      "Iteration 059 [0.160262]: Loss = [0.0222016]\n",
      "Iteration 060 [0.158473]: Loss = [0.0254269]\n",
      "Iteration 061 [0.160619]: Loss = [0.0245344]\n",
      "Iteration 062 [0.157913]: Loss = [0.0247938]\n",
      "Iteration 063 [0.157070]: Loss = [0.0222295]\n",
      "Iteration 064 [0.160232]: Loss = [0.0223956]\n",
      "Iteration 065 [0.160367]: Loss = [0.0224333]\n",
      "Iteration 066 [0.158934]: Loss = [0.0253225]\n",
      "Iteration 067 [0.164581]: Loss = [0.0228653]\n",
      "Iteration 068 [0.158306]: Loss = [0.0239618]\n",
      "Iteration 069 [0.156963]: Loss = [0.0234044]\n",
      "Iteration 070 [0.157490]: Loss = [0.0253994]\n",
      "Iteration 071 [0.167194]: Loss = [0.0245985]\n",
      "Iteration 072 [0.170096]: Loss = [0.026379]\n",
      "Iteration 073 [0.176427]: Loss = [0.021701]\n",
      "Iteration 074 [0.183422]: Loss = [0.023424]\n",
      "Iteration 075 [0.172676]: Loss = [0.0230103]\n",
      "Iteration 076 [0.168898]: Loss = [0.0239444]\n",
      "Iteration 077 [0.169275]: Loss = [0.0242506]\n",
      "Iteration 078 [0.171999]: Loss = [0.0222402]\n",
      "Iteration 079 [0.172041]: Loss = [0.0254722]\n",
      "Iteration 080 [0.168901]: Loss = [0.0245044]\n",
      "Iteration 081 [0.167956]: Loss = [0.0252025]\n",
      "Iteration 082 [0.166374]: Loss = [0.0236888]\n",
      "Iteration 083 [0.157631]: Loss = [0.0254522]\n",
      "Iteration 084 [0.157199]: Loss = [0.0219089]\n",
      "Iteration 085 [0.156859]: Loss = [0.0234029]\n",
      "Iteration 086 [0.157193]: Loss = [0.0251702]\n",
      "Iteration 087 [0.159098]: Loss = [0.0260508]\n",
      "Iteration 088 [0.157945]: Loss = [0.0240624]\n",
      "Iteration 089 [0.158341]: Loss = [0.0239176]\n",
      "Iteration 090 [0.157518]: Loss = [0.0241332]\n",
      "Iteration 091 [0.158561]: Loss = [0.0212618]\n",
      "Iteration 092 [0.158871]: Loss = [0.025069]\n",
      "Iteration 093 [0.161255]: Loss = [0.0232568]\n",
      "Iteration 094 [0.162114]: Loss = [0.0232611]\n",
      "Iteration 095 [0.158961]: Loss = [0.0243539]\n",
      "Iteration 096 [0.157346]: Loss = [0.0254414]\n",
      "Iteration 097 [0.156900]: Loss = [0.024868]\n",
      "Iteration 098 [0.168097]: Loss = [0.0255661]\n",
      "Iteration 099 [0.159573]: Loss = [0.0206355]\n",
      "Iteration 100 [0.162378]: Loss = [0.0254555]\n"
     ]
    }
   ],
   "source": [
    "from time import time\n",
    "\n",
    "params = mi.traverse(scene)\n",
    "# keys = [key for key in params.keys() if \"vertex_bsdf\" in key]\n",
    "keys = [key for key in params.keys() if \"vertex_bsdf_base_color\" in key]    # TODO\n",
    "opt = mi.ad.Adam(lr=0.05)\n",
    "for key in keys:\n",
    "    dr.enable_grad(params[key])\n",
    "    opt[key] = params[key]\n",
    "    params.update(opt)\n",
    "\n",
    "losses = []\n",
    "for it in range(100):\n",
    "    time1 = time()\n",
    "\n",
    "    # Evaluate the objective function for the current BSDF params\n",
    "    loss = compute_loss_sh(scene_sampler, radiance_cache, bsdf_train, \n",
    "        NUM_GEO_SAMPLES, NUM_WI_DIRECTIONS, it)\n",
    "    # loss = compute_loss_mi(scene_sampler, radiance_cache_exact, bsdf_train, \n",
    "    #     NUM_GEO_SAMPLES, NUM_WI_DIRECTIONS, it)\n",
    "\n",
    "    # Backpropagate through the rendering process\n",
    "    dr.backward(loss)\n",
    "\n",
    "    # Optimizer: take a gradient descent step\n",
    "    opt.step()\n",
    "\n",
    "    # Post-process the optimized parameters to ensure legal color values.\n",
    "    for key in keys:\n",
    "        opt[key] = dr.clip(opt[key], 0.0, 1.0)\n",
    "\n",
    "    # Update the scene state to the new optimized values\n",
    "    params.update(opt)\n",
    "\n",
    "    losses.append(loss.numpy())\n",
    "    time2 = time()\n",
    "    print(f\"Iteration {1+it:03d} [{time2 - time1:2f}]: Loss = {loss}\")"
   ]
  },
  {
   "cell_type": "code",
   "execution_count": 12,
   "metadata": {},
   "outputs": [
    {
     "data": {
      "image/png": "[encoded data removed]",
      "text/plain": [
       "<Figure size 800x400 with 1 Axes>"
      ]
     },
     "metadata": {},
     "output_type": "display_data"
    }
   ],
   "source": [
    "import matplotlib.pyplot as plt\n",
    "import numpy as np\n",
    "\n",
    "plt.figure(figsize=(8,4))\n",
    "plt.title(\"Optimization progress\")\n",
    "plt.plot(np.array(losses))\n",
    "plt.xlabel(\"Iters\")\n",
    "plt.ylabel(\"Loss\")\n",
    "plt.grid()\n",
    "plt.tight_layout()"
   ]
  },
  {
   "cell_type": "code",
   "execution_count": 13,
   "metadata": {},
   "outputs": [
    {
     "name": "stdout",
     "output_type": "stream",
     "text": [
      "[polyscope] Backend: openGL3_glfw -- Loaded openGL version: 3.3.0 NVIDIA 550.120\n"
     ]
    }
   ],
   "source": [
    "from principled_bsdf import visualize_textures\n",
    "\n",
    "visualize_textures(scene)"
   ]
  }
 ],
 "metadata": {
  "kernelspec": {
   "display_name": "balance",
   "language": "python",
   "name": "python3"
  },
  "language_info": {
   "codemirror_mode": {
    "name": "ipython",
    "version": 3
   },
   "file_extension": ".py",
   "mimetype": "text/x-python",
   "name": "python",
   "nbconvert_exporter": "python",
   "pygments_lexer": "ipython3",
   "version": "3.10.12"
  }
 },
 "nbformat": 4,
 "nbformat_minor": 2
}
