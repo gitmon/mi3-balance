{
 "cells": [
  {
   "cell_type": "code",
   "execution_count": 1,
   "metadata": {},
   "outputs": [],
   "source": [
    "# %env DRJIT_LIBLLVM_PATH /usr/lib/x86_64-linux-gnu/libLLVM-15.0.7.so.1\n",
    "# !echo $DRJIT_LIBLLVM_PATH"
   ]
  },
  {
   "cell_type": "code",
   "execution_count": 2,
   "metadata": {},
   "outputs": [],
   "source": [
    "# %%bash\n",
    "# ln -sf /usr/lib/x86_64-linux-gnu/libstdc++.so.6 ${CONDA_PREFIX}/lib/libstdc++.so.6\n",
    "# export LD_LIBRARY_PATH=$LD_LIBRARY_PATH:$CONDA_PREFIX/lib/"
   ]
  },
  {
   "cell_type": "code",
   "execution_count": 1,
   "metadata": {},
   "outputs": [],
   "source": [
    "import sys\n",
    "sys.path.insert(0, '/home/jonathan/Documents/mi3-balance/build/python')\n",
    "\n",
    "import drjit as dr\n",
    "import mitsuba as mi\n",
    "from drjit.auto import Float, UInt\n",
    "import time\n",
    "\n",
    "mi.set_variant('cuda_ad_rgb')\n",
    "# mi.set_variant('llvm_ad_rgb')"
   ]
  },
  {
   "cell_type": "code",
   "execution_count": 4,
   "metadata": {},
   "outputs": [
    {
     "data": {
      "text/plain": [
       "PLYMesh[\n",
       "  name = \"bunny.ply\",\n",
       "  bbox = BoundingBox3f[\n",
       "    min = [-0.0946899, 0.0329874, -0.0618736],\n",
       "    max = [0.0610091, 0.187321, 0.0587997]\n",
       "  ],\n",
       "  vertex_count = 35947,\n",
       "  vertices = [843 KiB of vertex data],\n",
       "  face_count = 69451,\n",
       "  faces = [814 KiB of face data],\n",
       "  face_normals = 0\n",
       "]"
      ]
     },
     "execution_count": 4,
     "metadata": {},
     "output_type": "execute_result"
    }
   ],
   "source": [
    "import polyscope as ps\n",
    "from visualizer import plot_mesh, plot_mesh_attribute\n",
    "import numpy as np\n",
    "\n",
    "mesh_fp = \"/home/jonathan/Documents/mi3-balance/resources/data/common/meshes/bunny.ply\"\n",
    "mesh_dict = {\n",
    "    'type': 'ply',\n",
    "    'filename': mesh_fp,\n",
    "}\n",
    "\n",
    "scene = mi.load_dict({\n",
    "        \"type\": \"scene\",\n",
    "        \"myintegrator\": {\n",
    "            \"type\": \"path\",\n",
    "            \"max_depth\": 10 # 5\n",
    "        },\n",
    "        \"geo\": mesh_dict,\n",
    "    }\n",
    ")\n",
    "\n",
    "mesh = scene.shapes()[0]\n",
    "mesh"
   ]
  },
  {
   "cell_type": "code",
   "execution_count": 5,
   "metadata": {},
   "outputs": [],
   "source": [
    "def make_si(mesh, scene):\n",
    "    ps = mesh.sample_position(0.0, mi.Point2f(0.5, 0.5))\n",
    "    ray = mi.Ray3f(ps.p, -ps.n)\n",
    "    si = scene.ray_intersect(ray)\n",
    "    return si"
   ]
  },
  {
   "cell_type": "markdown",
   "metadata": {},
   "source": [
    "### Storage"
   ]
  },
  {
   "cell_type": "code",
   "execution_count": 6,
   "metadata": {},
   "outputs": [
    {
     "data": {
      "text/plain": [
       "PLYMesh[\n",
       "  name = \"bunny.ply\",\n",
       "  bbox = BoundingBox3f[\n",
       "    min = [-0.0946899, 0.0329874, -0.0618736],\n",
       "    max = [0.0610091, 0.187321, 0.0587997]\n",
       "  ],\n",
       "  vertex_count = 35947,\n",
       "  vertices = [5.07 MiB of vertex data],\n",
       "  face_count = 69451,\n",
       "  faces = [814 KiB of face data],\n",
       "  face_normals = 0,\n",
       "  mesh attributes = [\n",
       "    vertex_bsdf_scalar0: 1 float,\n",
       "    vertex_bsdf_color: 3 floats,\n",
       "    vertex_sh_coeffs_5: 3 floats,\n",
       "    vertex_sh_coeffs_4: 3 floats,\n",
       "    vertex_sh_coeffs_8: 3 floats,\n",
       "    vertex_sh_coeffs_3: 3 floats,\n",
       "    vertex_sh_coeffs_2: 3 floats,\n",
       "    vertex_sh_coeffs_6: 3 floats,\n",
       "    vertex_sh_coeffs_1: 3 floats,\n",
       "    vertex_sh_coeffs_7: 3 floats,\n",
       "    vertex_sh_coeffs_0: 3 floats\n",
       "  ]\n",
       "]"
      ]
     },
     "execution_count": 6,
     "metadata": {},
     "output_type": "execute_result"
    }
   ],
   "source": [
    "from spherical_harmonics import get_sh_count, get_sh_order_from_index\n",
    "\n",
    "# def get_sh_count(max_order: int):\n",
    "#     return (max_order + 1) ** 2\n",
    "\n",
    "# def get_sh_order_from_index(index: int):\n",
    "#     return int(np.ceil(np.sqrt(index + 1) - 1))\n",
    "\n",
    "def create_sh_buffer_scalar(mesh: mi.Mesh, max_order: int = 3):\n",
    "    Nv = mesh.vertex_count()\n",
    "    num_terms = get_sh_count(max_order)\n",
    "    for index in range(num_terms):\n",
    "        values = dr.full(Float, 0.5, Nv)\n",
    "        mesh.add_attribute(\n",
    "            name=f\"vertex_sh_coeffs_{index}\",\n",
    "            size=1,\n",
    "            buffer=values)\n",
    "\n",
    "def create_sh_buffer_color(mesh: mi.Mesh, max_order: int = 3):\n",
    "    Nv = mesh.vertex_count()\n",
    "    num_terms = get_sh_count(max_order)\n",
    "    for index in range(num_terms):\n",
    "        values = mi.Color3f(\n",
    "            dr.full(Float, 0.0, Nv), \n",
    "            dr.full(Float, 0.0, Nv), \n",
    "            dr.full(Float, 0.0, Nv))\n",
    "        mesh.add_attribute(\n",
    "            name=f\"vertex_sh_coeffs_{index}\",\n",
    "            size=3,\n",
    "            buffer=dr.ravel(values))\n",
    "\n",
    "def create_bsdf_buffer(mesh: mi.Mesh, base_color, roughness: float):\n",
    "    Nv = mesh.vertex_count()\n",
    "    # handle color-valued attributes\n",
    "    values = mi.Color3f(\n",
    "        dr.full(Float, base_color[0], Nv), \n",
    "        dr.full(Float, base_color[1], Nv), \n",
    "        dr.full(Float, base_color[2], Nv))\n",
    "\n",
    "    mesh.add_attribute(\n",
    "        name=\"vertex_bsdf_color\",\n",
    "        size=3,\n",
    "        buffer=dr.ravel(values))\n",
    "    \n",
    "    # handle scalar-valued attributes\n",
    "    values = dr.full(Float, roughness, Nv)\n",
    "    mesh.add_attribute(\n",
    "        name=\"vertex_bsdf_scalar0\",\n",
    "        size=1,\n",
    "        buffer=values)\n",
    "\n",
    "create_sh_buffer_color(mesh, 2)\n",
    "create_bsdf_buffer(mesh, [0.5, 0.5, 0.5], 0.1)\n",
    "mesh"
   ]
  },
  {
   "cell_type": "code",
   "execution_count": 7,
   "metadata": {},
   "outputs": [
    {
     "name": "stdout",
     "output_type": "stream",
     "text": [
      "[0.1]\n",
      "[[0.5, 0.5, 0.5]]\n",
      "[[0, 0, 0]]\n"
     ]
    }
   ],
   "source": [
    "si = make_si(mesh, scene)\n",
    "print(mesh.eval_attribute_1(\"vertex_bsdf_scalar0\", si))\n",
    "print(mesh.eval_attribute_3(\"vertex_bsdf_color\", si))\n",
    "print(mesh.eval_attribute_3(\"vertex_sh_coeffs_2\", si))"
   ]
  },
  {
   "cell_type": "markdown",
   "metadata": {},
   "source": [
    "### Query (SH)"
   ]
  },
  {
   "cell_type": "code",
   "execution_count": 8,
   "metadata": {},
   "outputs": [
    {
     "data": {
      "text/plain": [
       "[[0, 0, 0],\n",
       " [0, 0, 0],\n",
       " [0, 0, 0],\n",
       " [0, 0, 0],\n",
       " [0, 0, 0],\n",
       " [0, 0, 0],\n",
       " [0, 0, 0],\n",
       " [0, 0, 0],\n",
       " [0, 0, 0],\n",
       " [0, 0, 0],\n",
       " [0, 0, 0],\n",
       " [0, 0, 0],\n",
       " [0, 0, 0],\n",
       " [0, 0, 0],\n",
       " [0, 0, 0],\n",
       " [0, 0, 0]]"
      ]
     },
     "execution_count": 8,
     "metadata": {},
     "output_type": "execute_result"
    }
   ],
   "source": [
    "from spherical_harmonics import eval_sh_at_position\n",
    "\n",
    "# Indexing convention\n",
    "#\n",
    "# order = 3\n",
    "# for n in range(order+1):\n",
    "#     for m in range(-n, n+1):\n",
    "#         print(n, m)\n",
    "#\n",
    "# =====================\n",
    "#    idx      n   m\n",
    "# =====================\n",
    "#     0:      0   0\n",
    "#     1:      1   -1\n",
    "#     2:      1   0\n",
    "#     3:      1   1\n",
    "#     4:      2   -2\n",
    "#     5:      2   -1\n",
    "#     6:      2   0\n",
    "#     7:      2   1\n",
    "#     8:      2   2\n",
    "#     9:      3   -3\n",
    "#     10:     3   -2\n",
    "#     11:     3   -1\n",
    "#     12:     3   0\n",
    "#     13:     3   1\n",
    "#     14:     3   2\n",
    "#     15:     3   3\n",
    "\n",
    "d = mi.Vector3f(dr.zeros(Float, 16), dr.zeros(Float, 16), dr.ones(Float, 16))\n",
    "eval_sh_at_position(si, d)"
   ]
  },
  {
   "cell_type": "markdown",
   "metadata": {},
   "source": [
    "### Fitting (SH)"
   ]
  },
  {
   "cell_type": "code",
   "execution_count": 11,
   "metadata": {},
   "outputs": [
    {
     "name": "stdout",
     "output_type": "stream",
     "text": [
      "16:\t1.039505e-04\n",
      "32:\t4.768372e-06\n",
      "64:\t9.536743e-07\n",
      "128:\t0.000000e+00\n",
      "256:\t0.000000e+00\n",
      "512:\t9.536743e-07\n",
      "16:\t8.308887e-05\n",
      "32:\t2.384186e-07\n",
      "64:\t7.152557e-07\n",
      "128:\t5.364418e-07\n",
      "256:\t5.364418e-07\n",
      "512:\t5.960464e-07\n",
      "Max error: 1.311e-06\n"
     ]
    },
    {
     "data": {
      "image/png": "[encoded data removed]",
      "text/plain": [
       "<Figure size 640x480 with 1 Axes>"
      ]
     },
     "metadata": {},
     "output_type": "display_data"
    },
    {
     "data": {
      "image/png": "[encoded data removed]",
      "text/plain": [
       "<Figure size 640x480 with 1 Axes>"
      ]
     },
     "metadata": {},
     "output_type": "display_data"
    }
   ],
   "source": [
    "from spherical_harmonics_test import test_spherical_integrate_0, test_spherical_integrate_1, test_spherical_integrate_3\n",
    "\n",
    "test_spherical_integrate_0()\n",
    "test_spherical_integrate_1(14)\n",
    "\n",
    "# # envmap = mi.load_dict({\n",
    "# #     \"type\": \"envmap\",\n",
    "# #     \"filename\": \"/home/jonathan/Documents/mi3-balance/resources/data/common/textures/museum.exr\"\n",
    "# # })\n",
    "\n",
    "test_spherical_integrate_3(3);\n",
    "\n",
    "# TODO: fitting to a *hemisphere* for the radiance cache might require some care.\n",
    "# - all measurement vectors should be duplicated and reflected about the z-axis\n",
    "# - fit only the even SH basis functions (even wrt +-z, at least)"
   ]
  },
  {
   "cell_type": "code",
   "execution_count": 88,
   "metadata": {},
   "outputs": [
    {
     "name": "stdout",
     "output_type": "stream",
     "text": [
      "16:\t1.297759e-02\n",
      "32:\t9.800121e-04\n",
      "64:\t4.663914e-04\n",
      "128:\t1.052469e-04\n",
      "256:\t3.413111e-05\n",
      "512:\t2.726167e-05\n",
      "1024:\t2.637506e-06\n"
     ]
    },
    {
     "data": {
      "image/png": "[encoded data removed]",
      "text/plain": [
       "<Figure size 640x480 with 1 Axes>"
      ]
     },
     "metadata": {},
     "output_type": "display_data"
    }
   ],
   "source": [
    "from spherical_harmonics_test import test_spherical_integrate_2\n",
    "\n",
    "test_spherical_integrate_2(4)"
   ]
  },
  {
   "cell_type": "code",
   "execution_count": 42,
   "metadata": {},
   "outputs": [
    {
     "name": "stdout",
     "output_type": "stream",
     "text": [
      "The autoreload extension is already loaded. To reload it, use:\n",
      "  %reload_ext autoreload\n",
      "Mean L2 error (color): [0.132947]\n"
     ]
    }
   ],
   "source": [
    "from spherical_harmonics_test import test_fit_envmap, test_fit_sh\n",
    "\n",
    "test_fit_envmap(9)\n",
    "# test_fit_sh(9)"
   ]
  },
  {
   "cell_type": "markdown",
   "metadata": {},
   "source": [
    "### Fitting on scene (SH)"
   ]
  },
  {
   "cell_type": "code",
   "execution_count": 125,
   "metadata": {},
   "outputs": [
    {
     "data": {
      "text/plain": [
       "SurfaceInteraction[\n",
       "  t=[inf, inf, inf, inf, inf,    22 skipped .., inf, inf, inf, inf, inf],\n",
       "  time=[0, 0, 0, 0, 0,    22 skipped .., 0, 0, 0, 0, 0],\n",
       "  wavelengths=[],\n",
       "  p=[[244.308, 548.3, 257.521],\n",
       "     [282.459, 548.3, 264.814],\n",
       "     [262.833, 548.3, 266.615],\n",
       "     [342.015, 548.3, 329.02],\n",
       "     [278.932, 548.3, 278.391],\n",
       "        22 skipped ..,\n",
       "     [240.244, 548.3, 250.799],\n",
       "     [260.049, 548.3, 327.967],\n",
       "     [284.283, 548.3, 295.701],\n",
       "     [275.785, 548.3, 276.355],\n",
       "     [226.503, 548.3, 230.571]],\n",
       "  n=[[0, -1, 0],\n",
       "     [0, -1, 0],\n",
       "     [0, -1, 0],\n",
       "     [0, -1, 0],\n",
       "     [0, -1, 0],\n",
       "        22 skipped ..,\n",
       "     [0, -1, 0],\n",
       "     [0, -1, 0],\n",
       "     [0, -1, 0],\n",
       "     [0, -1, 0],\n",
       "     [0, -1, 0]],\n",
       "  shape=[0x0, 0x0, 0x0, 0x0, 0x0,    22 skipped .., 0x0, 0x0, 0x0, 0x0, 0x0],\n",
       "  uv=[[0, 0],\n",
       "      [0, 0],\n",
       "      [0, 0],\n",
       "      [0, 0],\n",
       "      [0, 0],\n",
       "         22 skipped ..,\n",
       "      [0, 0],\n",
       "      [0, 0],\n",
       "      [0, 0],\n",
       "      [0, 0],\n",
       "      [0, 0]],\n",
       "  sh_frame=Frame[\n",
       "             s=[[1, 0, -0],\n",
       "                [1, 0, -0],\n",
       "                [1, 0, -0],\n",
       "                [1, 0, -0],\n",
       "                [1, 0, -0],\n",
       "                   22 skipped ..,\n",
       "                [1, 0, -0],\n",
       "                [1, 0, -0],\n",
       "                [1, 0, -0],\n",
       "                [1, 0, -0],\n",
       "                [1, 0, -0]],\n",
       "             t=[[0, 0, 1],\n",
       "                [0, 0, 1],\n",
       "                [0, 0, 1],\n",
       "                [0, 0, 1],\n",
       "                [0, 0, 1],\n",
       "                   22 skipped ..,\n",
       "                [0, 0, 1],\n",
       "                [0, 0, 1],\n",
       "                [0, 0, 1],\n",
       "                [0, 0, 1],\n",
       "                [0, 0, 1]],\n",
       "             n=[[0, -1, 0],\n",
       "                [0, -1, 0],\n",
       "                [0, -1, 0],\n",
       "                [0, -1, 0],\n",
       "                [0, -1, 0],\n",
       "                   22 skipped ..,\n",
       "                [0, -1, 0],\n",
       "                [0, -1, 0],\n",
       "                [0, -1, 0],\n",
       "                [0, -1, 0],\n",
       "                [0, -1, 0]]\n",
       "],\n",
       "  dp_du=[[0, 0, 0],\n",
       "         [0, 0, 0],\n",
       "         [0, 0, 0],\n",
       "         [0, 0, 0],\n",
       "         [0, 0, 0],\n",
       "            22 skipped ..,\n",
       "         [0, 0, 0],\n",
       "         [0, 0, 0],\n",
       "         [0, 0, 0],\n",
       "         [0, 0, 0],\n",
       "         [0, 0, 0]],\n",
       "  dp_dv=[[0, 0, 0],\n",
       "         [0, 0, 0],\n",
       "         [0, 0, 0],\n",
       "         [0, 0, 0],\n",
       "         [0, 0, 0],\n",
       "            22 skipped ..,\n",
       "         [0, 0, 0],\n",
       "         [0, 0, 0],\n",
       "         [0, 0, 0],\n",
       "         [0, 0, 0],\n",
       "         [0, 0, 0]],\n",
       "  dn_du=[[0, 0, 0],\n",
       "         [0, 0, 0],\n",
       "         [0, 0, 0],\n",
       "         [0, 0, 0],\n",
       "         [0, 0, 0],\n",
       "            22 skipped ..,\n",
       "         [0, 0, 0],\n",
       "         [0, 0, 0],\n",
       "         [0, 0, 0],\n",
       "         [0, 0, 0],\n",
       "         [0, 0, 0]],\n",
       "  dn_dv=[[0, 0, 0],\n",
       "         [0, 0, 0],\n",
       "         [0, 0, 0],\n",
       "         [0, 0, 0],\n",
       "         [0, 0, 0],\n",
       "            22 skipped ..,\n",
       "         [0, 0, 0],\n",
       "         [0, 0, 0],\n",
       "         [0, 0, 0],\n",
       "         [0, 0, 0],\n",
       "         [0, 0, 0]],\n",
       "  duv_dx=[[0, 0],\n",
       "          [0, 0],\n",
       "          [0, 0],\n",
       "          [0, 0],\n",
       "          [0, 0],\n",
       "             22 skipped ..,\n",
       "          [0, 0],\n",
       "          [0, 0],\n",
       "          [0, 0],\n",
       "          [0, 0],\n",
       "          [0, 0]],\n",
       "  duv_dy=[[0, 0],\n",
       "          [0, 0],\n",
       "          [0, 0],\n",
       "          [0, 0],\n",
       "          [0, 0],\n",
       "             22 skipped ..,\n",
       "          [0, 0],\n",
       "          [0, 0],\n",
       "          [0, 0],\n",
       "          [0, 0],\n",
       "          [0, 0]],\n",
       "  wi=[[0, 0, 0],\n",
       "      [0, 0, 0],\n",
       "      [0, 0, 0],\n",
       "      [0, 0, 0],\n",
       "      [0, 0, 0],\n",
       "         22 skipped ..,\n",
       "      [0, 0, 0],\n",
       "      [0, 0, 0],\n",
       "      [0, 0, 0],\n",
       "      [0, 0, 0],\n",
       "      [0, 0, 0]],\n",
       "  prim_index=[0, 0, 0, 0, 0,    22 skipped .., 0, 0, 0, 0, 0],\n",
       "  instance=[0x0, 0x0, 0x0, 0x0, 0x0,    22 skipped .., 0x0, 0x0, 0x0, 0x0, 0x0]\n",
       "]"
      ]
     },
     "execution_count": 125,
     "metadata": {},
     "output_type": "execute_result"
    }
   ],
   "source": [
    "scene = mi.load_file(\"/home/jonathan/Documents/mi3-balance/resources/data/scenes/cbox/cbox.xml\")\n",
    "integrator = scene.integrator()\n",
    "sampler = mi.load_dict({'type': 'independent'})\n",
    "meshes = scene.shapes()\n",
    "mesh = meshes[0]\n",
    "\n",
    "# Suppose we can somehow obtain position samples at each of the mesh vertices\n",
    "Nv = mesh.vertex_count()\n",
    "sampler.seed(0, Nv)\n",
    "ps = mesh.sample_position(0, sampler.next_2d())\n",
    "\n",
    "# Initialize interaction structs\n",
    "si = dr.zeros(mi.SurfaceInteraction3f, Nv)\n",
    "si.p, si.n = ps.p, ps.n\n",
    "si.sh_frame = mi.Frame3f(ps.n)\n",
    "\n",
    "d = dr.zeros(mi.Vector3f, 3)\n",
    "d.z = 1\n",
    "\n",
    "\n",
    "from spherical_harmonics import eval_basis\n",
    "def fit(f_color, max_order: int, N: int = 64):\n",
    "    d, sh_basis, quad_W = eval_basis(max_order, N)\n",
    "\n",
    "    \n",
    "\n",
    "    f_evals = f_color(d)\n",
    "    integrand_R = quad_W * sh_basis * f_evals.x\n",
    "    integrand_G = quad_W * sh_basis * f_evals.y\n",
    "    integrand_B = quad_W * sh_basis * f_evals.z\n",
    "    I_R = dr.ravel(dr.sum(integrand_R, axis=1))\n",
    "    I_G = dr.ravel(dr.sum(integrand_G, axis=1))\n",
    "    I_B = dr.ravel(dr.sum(integrand_B, axis=1))\n",
    "    return mi.Color3f(I_R, I_G, I_B)\n",
    "\n",
    "\n",
    "\n",
    "\n",
    "# def compute_Lo(si, d, spp = 64):\n",
    "#     '''\n",
    "#     Compute Lo\n",
    "#     '''\n",
    "#     rays = si.spawn_ray(-si.to_world(d))\n",
    "#     num_rays = dr.width(d)\n",
    "#     wide_idxs = dr.repeat(dr.arange(UInt, num_rays), spp)\n",
    "#     rays_wide = dr.gather(mi.Ray3f, rays, wide_idxs)\n",
    "#     colors, _, _ = integrator.sample(scene, sampler, rays_wide)\n",
    "#     Lo = dr.block_reduce(dr.ReduceOp.Add, colors, block_size = spp) / spp\n",
    "#     return Lo\n",
    "\n",
    "\n",
    "\n",
    "# # mesh.vertex_position(dr.arange(UInt, mesh.vertex_count()))\n",
    "\n",
    "# si = dr.zeros(mi.SurfaceInteraction3f, mesh.vertex_count())\n",
    "# si.p = mesh.vertex_position(dr.arange(UInt, mesh.vertex_count()))\n",
    "# for point in si.p:\n",
    "#     fit_sh_coeffs_color(???, max_order=3, N=64)"
   ]
  },
  {
   "cell_type": "markdown",
   "metadata": {},
   "source": [
    "### Query (BSDF)"
   ]
  },
  {
   "cell_type": "code",
   "execution_count": null,
   "metadata": {},
   "outputs": [],
   "source": []
  },
  {
   "cell_type": "code",
   "execution_count": 11,
   "metadata": {},
   "outputs": [],
   "source": [
    "# ps.init(); plot_mesh_attribute(mesh, \"vertex_bsdf_color\", True); ps.show()"
   ]
  }
 ],
 "metadata": {
  "kernelspec": {
   "display_name": "balance",
   "language": "python",
   "name": "python3"
  },
  "language_info": {
   "codemirror_mode": {
    "name": "ipython",
    "version": 3
   },
   "file_extension": ".py",
   "mimetype": "text/x-python",
   "name": "python",
   "nbconvert_exporter": "python",
   "pygments_lexer": "ipython3",
   "version": "3.10.12"
  }
 },
 "nbformat": 4,
 "nbformat_minor": 2
}
